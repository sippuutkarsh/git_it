{
  "nbformat": 4,
  "nbformat_minor": 0,
  "metadata": {
    "colab": {
      "name": "keras.ipynb",
      "provenance": [],
      "collapsed_sections": [],
      "toc_visible": true,
      "authorship_tag": "ABX9TyNmBjWkSW3fs1DAsfgpSnpY",
      "include_colab_link": true
    },
    "kernelspec": {
      "name": "python3",
      "display_name": "Python 3"
    },
    "language_info": {
      "name": "python"
    }
  },
  "cells": [
    {
      "cell_type": "markdown",
      "metadata": {
        "id": "view-in-github",
        "colab_type": "text"
      },
      "source": [
        "<a href=\"https://colab.research.google.com/github/sippuutkarsh/git_it/blob/main/keras.ipynb\" target=\"_parent\"><img src=\"https://colab.research.google.com/assets/colab-badge.svg\" alt=\"Open In Colab\"/></a>"
      ]
    },
    {
      "cell_type": "code",
      "metadata": {
        "id": "LMZpe12X8z0v"
      },
      "source": [
        "from sklearn import datasets\n",
        "cancer=datasets.load_breast_cancer()\n",
        "from sklearn.model_selection import train_test_split\n",
        "\n",
        "x_train,x_test,y_train,y_test=train_test_split(cancer.data,cancer.target,random_state=0)\n",
        "from sklearn.preprocessing import StandardScaler\n",
        "sc=StandardScaler()\n",
        "x_train=sc.fit_transform(x_train)\n",
        "x_test=sc.transform(x_test)"
      ],
      "execution_count": null,
      "outputs": []
    },
    {
      "cell_type": "code",
      "metadata": {
        "id": "pCXd9U2qXINy"
      },
      "source": [
        "from keras.models import Sequential\n",
        "from keras.layers import Dense "
      ],
      "execution_count": 8,
      "outputs": []
    },
    {
      "cell_type": "code",
      "metadata": {
        "id": "GXw2z2SNYFoo"
      },
      "source": [
        "model=Sequential()\n"
      ],
      "execution_count": 9,
      "outputs": []
    },
    {
      "cell_type": "code",
      "metadata": {
        "id": "qh12m20qZ4LN"
      },
      "source": [
        "model.add(Dense(units=32,activation='relu',input_dim=30))\n",
        "model.add(Dense(units=16,activation='relu'))\n",
        "model.add(Dense(units=1,activation='sigmoid'))\n"
      ],
      "execution_count": 11,
      "outputs": []
    },
    {
      "cell_type": "code",
      "metadata": {
        "id": "qj3vVUG8brl-"
      },
      "source": [
        "model.compile(optimizer='adam',loss='binary_crossentropy',metrics='accuracy')"
      ],
      "execution_count": 22,
      "outputs": []
    },
    {
      "cell_type": "code",
      "metadata": {
        "colab": {
          "base_uri": "https://localhost:8080/"
        },
        "id": "usp2PeLycFUp",
        "outputId": "490bfbb4-ba94-4da8-f0ae-1a9bed887d2b"
      },
      "source": [
        "model.fit(x_train,y_train,epochs=24,batch_size=50)"
      ],
      "execution_count": 23,
      "outputs": [
        {
          "output_type": "stream",
          "name": "stdout",
          "text": [
            "Epoch 1/24\n",
            "9/9 [==============================] - 1s 3ms/step - loss: 0.0387 - accuracy: 0.9906\n",
            "Epoch 2/24\n",
            "9/9 [==============================] - 0s 3ms/step - loss: 0.0365 - accuracy: 0.9906\n",
            "Epoch 3/24\n",
            "9/9 [==============================] - 0s 3ms/step - loss: 0.0354 - accuracy: 0.9906\n",
            "Epoch 4/24\n",
            "9/9 [==============================] - 0s 2ms/step - loss: 0.0341 - accuracy: 0.9906\n",
            "Epoch 5/24\n",
            "9/9 [==============================] - 0s 3ms/step - loss: 0.0330 - accuracy: 0.9906\n",
            "Epoch 6/24\n",
            "9/9 [==============================] - 0s 4ms/step - loss: 0.0321 - accuracy: 0.9930\n",
            "Epoch 7/24\n",
            "9/9 [==============================] - 0s 3ms/step - loss: 0.0309 - accuracy: 0.9930\n",
            "Epoch 8/24\n",
            "9/9 [==============================] - 0s 3ms/step - loss: 0.0299 - accuracy: 0.9930\n",
            "Epoch 9/24\n",
            "9/9 [==============================] - 0s 3ms/step - loss: 0.0290 - accuracy: 0.9930\n",
            "Epoch 10/24\n",
            "9/9 [==============================] - 0s 3ms/step - loss: 0.0280 - accuracy: 0.9930\n",
            "Epoch 11/24\n",
            "9/9 [==============================] - 0s 2ms/step - loss: 0.0271 - accuracy: 0.9930\n",
            "Epoch 12/24\n",
            "9/9 [==============================] - 0s 3ms/step - loss: 0.0262 - accuracy: 0.9930\n",
            "Epoch 13/24\n",
            "9/9 [==============================] - 0s 3ms/step - loss: 0.0256 - accuracy: 0.9930\n",
            "Epoch 14/24\n",
            "9/9 [==============================] - 0s 3ms/step - loss: 0.0244 - accuracy: 0.9930\n",
            "Epoch 15/24\n",
            "9/9 [==============================] - 0s 3ms/step - loss: 0.0237 - accuracy: 0.9930\n",
            "Epoch 16/24\n",
            "9/9 [==============================] - 0s 4ms/step - loss: 0.0229 - accuracy: 0.9930\n",
            "Epoch 17/24\n",
            "9/9 [==============================] - 0s 4ms/step - loss: 0.0221 - accuracy: 0.9930\n",
            "Epoch 18/24\n",
            "9/9 [==============================] - 0s 3ms/step - loss: 0.0214 - accuracy: 0.9930\n",
            "Epoch 19/24\n",
            "9/9 [==============================] - 0s 3ms/step - loss: 0.0207 - accuracy: 0.9930\n",
            "Epoch 20/24\n",
            "9/9 [==============================] - 0s 3ms/step - loss: 0.0203 - accuracy: 0.9930\n",
            "Epoch 21/24\n",
            "9/9 [==============================] - 0s 3ms/step - loss: 0.0192 - accuracy: 0.9930\n",
            "Epoch 22/24\n",
            "9/9 [==============================] - 0s 3ms/step - loss: 0.0187 - accuracy: 0.9953\n",
            "Epoch 23/24\n",
            "9/9 [==============================] - 0s 3ms/step - loss: 0.0182 - accuracy: 0.9930\n",
            "Epoch 24/24\n",
            "9/9 [==============================] - 0s 3ms/step - loss: 0.0177 - accuracy: 0.9953\n"
          ]
        },
        {
          "output_type": "execute_result",
          "data": {
            "text/plain": [
              "<keras.callbacks.History at 0x7f487202fe10>"
            ]
          },
          "metadata": {},
          "execution_count": 23
        }
      ]
    },
    {
      "cell_type": "code",
      "metadata": {
        "colab": {
          "base_uri": "https://localhost:8080/"
        },
        "id": "c9YteBmDcYLj",
        "outputId": "046446b2-8947-471d-a433-63e58b6c999e"
      },
      "source": [
        "prediction=model.predict(x_test)\n",
        "score=model.evaluate(x_test,y_test)\n",
        "score"
      ],
      "execution_count": 24,
      "outputs": [
        {
          "output_type": "stream",
          "name": "stdout",
          "text": [
            "5/5 [==============================] - 0s 3ms/step - loss: 0.1013 - accuracy: 0.9650\n"
          ]
        },
        {
          "output_type": "execute_result",
          "data": {
            "text/plain": [
              "[0.10126346349716187, 0.9650349617004395]"
            ]
          },
          "metadata": {},
          "execution_count": 24
        }
      ]
    },
    {
      "cell_type": "code",
      "metadata": {
        "id": "g36q7gh-eJgG"
      },
      "source": [
        "from google.colab import drive\n",
        "drive.mount('/content/drive')"
      ],
      "execution_count": null,
      "outputs": []
    }
  ]
}